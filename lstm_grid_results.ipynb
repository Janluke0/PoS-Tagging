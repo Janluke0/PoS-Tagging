{
 "cells": [
  {
   "cell_type": "code",
   "execution_count": 2,
   "metadata": {},
   "outputs": [],
   "source": [
    "from pathlib import Path\n",
    "from collections import Counter\n",
    "from random import Random\n",
    "\n",
    "\n",
    "import torch\n",
    "from torch.utils.data import DataLoader\n",
    "from torch.nn.utils.rnn import pad_sequence\n",
    "\n",
    "\n",
    "from bpemb import BPEmb\n",
    "from dataset.twtita import TWITADS\n",
    "from model.lstm import LSTMTagger\n",
    "from model import train_model\n",
    "\n",
    "import tqdm.notebook as tqdm\n",
    "import matplotlib.pyplot as plt\n",
    "import numpy as np\n",
    "import pandas as pd\n",
    "\n",
    "N_TOKENS, BATCH_SIZE = 1000, 128"
   ]
  },
  {
   "cell_type": "code",
   "execution_count": 3,
   "metadata": {},
   "outputs": [],
   "source": [
    "\n",
    "def collate_fn(batch):\n",
    "    tokens, tags = zip(*batch)\n",
    "    return pad_sequence(tokens,batch_first=True), pad_sequence(tags, padding_value=-100,batch_first=True)\n",
    "\n",
    "bpe = BPEmb(lang='it',vs=N_TOKENS)\n",
    "word_tokenizer = lambda word: bpe.encode_ids_with_bos_eos(word)\n",
    "transformer = lambda tkns,tags:  (torch.tensor(tkns), torch.tensor(tags).long())\n",
    "\n",
    "ds_train = TWITADS('train',word_tokenizer, transform=transformer)\n",
    "ds_test  = TWITADS('test',word_tokenizer, transform=transformer)\n",
    "dl_train = DataLoader(ds_train, shuffle=True, batch_size=BATCH_SIZE, collate_fn=collate_fn)\n",
    "dl_test  = DataLoader(ds_test, shuffle=True, batch_size=BATCH_SIZE, collate_fn=collate_fn)\n"
   ]
  },
  {
   "cell_type": "code",
   "execution_count": 4,
   "metadata": {},
   "outputs": [
    {
     "data": {
      "text/plain": [
       "(14.24756669305105, 4.373428896987831)"
      ]
     },
     "execution_count": 4,
     "metadata": {},
     "output_type": "execute_result"
    }
   ],
   "source": [
    "\n",
    "tags = []\n",
    "for tweet in ds_train.tweets:\n",
    "    tags.extend([tag for _,tag in tweet])\n",
    "c = Counter(tags)\n",
    "most_common = c.most_common(1)[0][0]\n",
    "baseline = (np.array(tags) == np.array([most_common]*len(tags))).mean()*100\n",
    "r = Random(42)\n",
    "random_m = (np.array(tags) == np.array([r.sample(c.keys(),1)[0] for _ in range(len(tags))])).mean()*100\n",
    "baseline, random_m"
   ]
  },
  {
   "cell_type": "code",
   "execution_count": 5,
   "metadata": {},
   "outputs": [
    {
     "data": {
      "text/html": [
       "<div>\n",
       "<style scoped>\n",
       "    .dataframe tbody tr th:only-of-type {\n",
       "        vertical-align: middle;\n",
       "    }\n",
       "\n",
       "    .dataframe tbody tr th {\n",
       "        vertical-align: top;\n",
       "    }\n",
       "\n",
       "    .dataframe thead th {\n",
       "        text-align: right;\n",
       "    }\n",
       "</style>\n",
       "<table border=\"1\" class=\"dataframe\">\n",
       "  <thead>\n",
       "    <tr style=\"text-align: right;\">\n",
       "      <th></th>\n",
       "      <th>key</th>\n",
       "      <th>is_bi</th>\n",
       "      <th>lstm_layers</th>\n",
       "      <th>lstm_hidden_dim</th>\n",
       "      <th>out_layers</th>\n",
       "      <th>special_tokens</th>\n",
       "      <th>tag_mode</th>\n",
       "      <th>loss</th>\n",
       "      <th>accuracy</th>\n",
       "      <th>f1</th>\n",
       "      <th>explained_variance</th>\n",
       "      <th>alpha</th>\n",
       "    </tr>\n",
       "  </thead>\n",
       "  <tbody>\n",
       "    <tr>\n",
       "      <th>0</th>\n",
       "      <td>bi_1_128_1_#ow_all</td>\n",
       "      <td>True</td>\n",
       "      <td>1</td>\n",
       "      <td>128</td>\n",
       "      <td>1</td>\n",
       "      <td>#ow</td>\n",
       "      <td>all</td>\n",
       "      <td>3.445611</td>\n",
       "      <td>0.450020</td>\n",
       "      <td>0.277744</td>\n",
       "      <td>-0.219388</td>\n",
       "      <td>35.922259</td>\n",
       "    </tr>\n",
       "    <tr>\n",
       "      <th>1</th>\n",
       "      <td>bi_1_128_1_#ow_first</td>\n",
       "      <td>True</td>\n",
       "      <td>1</td>\n",
       "      <td>128</td>\n",
       "      <td>1</td>\n",
       "      <td>#ow</td>\n",
       "      <td>first</td>\n",
       "      <td>1.419023</td>\n",
       "      <td>0.565245</td>\n",
       "      <td>0.480500</td>\n",
       "      <td>0.039389</td>\n",
       "      <td>20.651640</td>\n",
       "    </tr>\n",
       "    <tr>\n",
       "      <th>2</th>\n",
       "      <td>bi_1_128_1_#ow_last</td>\n",
       "      <td>True</td>\n",
       "      <td>1</td>\n",
       "      <td>128</td>\n",
       "      <td>1</td>\n",
       "      <td>#ow</td>\n",
       "      <td>last</td>\n",
       "      <td>1.453890</td>\n",
       "      <td>0.560622</td>\n",
       "      <td>0.474402</td>\n",
       "      <td>-0.036562</td>\n",
       "      <td>21.345548</td>\n",
       "    </tr>\n",
       "    <tr>\n",
       "      <th>3</th>\n",
       "      <td>bi_1_128_1_#ow_terminal</td>\n",
       "      <td>True</td>\n",
       "      <td>1</td>\n",
       "      <td>128</td>\n",
       "      <td>1</td>\n",
       "      <td>#ow</td>\n",
       "      <td>terminal</td>\n",
       "      <td>2.497622</td>\n",
       "      <td>0.432549</td>\n",
       "      <td>0.330198</td>\n",
       "      <td>-0.200632</td>\n",
       "      <td>29.263766</td>\n",
       "    </tr>\n",
       "    <tr>\n",
       "      <th>4</th>\n",
       "      <td>bi_1_128_1_bow_all</td>\n",
       "      <td>True</td>\n",
       "      <td>1</td>\n",
       "      <td>128</td>\n",
       "      <td>1</td>\n",
       "      <td>bow</td>\n",
       "      <td>all</td>\n",
       "      <td>3.215927</td>\n",
       "      <td>0.454667</td>\n",
       "      <td>0.282452</td>\n",
       "      <td>-0.236690</td>\n",
       "      <td>34.588675</td>\n",
       "    </tr>\n",
       "  </tbody>\n",
       "</table>\n",
       "</div>"
      ],
      "text/plain": [
       "                       key  is_bi  lstm_layers  lstm_hidden_dim  out_layers  \\\n",
       "0       bi_1_128_1_#ow_all   True            1              128           1   \n",
       "1     bi_1_128_1_#ow_first   True            1              128           1   \n",
       "2      bi_1_128_1_#ow_last   True            1              128           1   \n",
       "3  bi_1_128_1_#ow_terminal   True            1              128           1   \n",
       "4       bi_1_128_1_bow_all   True            1              128           1   \n",
       "\n",
       "  special_tokens  tag_mode      loss  accuracy        f1  explained_variance  \\\n",
       "0            #ow       all  3.445611  0.450020  0.277744           -0.219388   \n",
       "1            #ow     first  1.419023  0.565245  0.480500            0.039389   \n",
       "2            #ow      last  1.453890  0.560622  0.474402           -0.036562   \n",
       "3            #ow  terminal  2.497622  0.432549  0.330198           -0.200632   \n",
       "4            bow       all  3.215927  0.454667  0.282452           -0.236690   \n",
       "\n",
       "       alpha  \n",
       "0  35.922259  \n",
       "1  20.651640  \n",
       "2  21.345548  \n",
       "3  29.263766  \n",
       "4  34.588675  "
      ]
     },
     "execution_count": 5,
     "metadata": {},
     "output_type": "execute_result"
    }
   ],
   "source": [
    "df = pd.read_csv(\"trained/lstm_grid.csv\")\n",
    "df.head()"
   ]
  },
  {
   "cell_type": "code",
   "execution_count": 6,
   "metadata": {},
   "outputs": [
    {
     "data": {
      "text/html": [
       "<div>\n",
       "<style scoped>\n",
       "    .dataframe tbody tr th:only-of-type {\n",
       "        vertical-align: middle;\n",
       "    }\n",
       "\n",
       "    .dataframe tbody tr th {\n",
       "        vertical-align: top;\n",
       "    }\n",
       "\n",
       "    .dataframe thead th {\n",
       "        text-align: right;\n",
       "    }\n",
       "</style>\n",
       "<table border=\"1\" class=\"dataframe\">\n",
       "  <thead>\n",
       "    <tr style=\"text-align: right;\">\n",
       "      <th></th>\n",
       "      <th>key</th>\n",
       "      <th>is_bi</th>\n",
       "      <th>lstm_layers</th>\n",
       "      <th>lstm_hidden_dim</th>\n",
       "      <th>out_layers</th>\n",
       "      <th>special_tokens</th>\n",
       "      <th>tag_mode</th>\n",
       "      <th>loss</th>\n",
       "      <th>accuracy</th>\n",
       "      <th>f1</th>\n",
       "      <th>explained_variance</th>\n",
       "      <th>alpha</th>\n",
       "      <th>loss_norm</th>\n",
       "      <th>accuracy_norm</th>\n",
       "      <th>f1_norm</th>\n",
       "      <th>explained_variance_norm</th>\n",
       "      <th>alpha_norm</th>\n",
       "      <th>combined</th>\n",
       "    </tr>\n",
       "  </thead>\n",
       "  <tbody>\n",
       "    <tr>\n",
       "      <th>0</th>\n",
       "      <td>bi_1_128_1_#ow_all</td>\n",
       "      <td>True</td>\n",
       "      <td>1</td>\n",
       "      <td>128</td>\n",
       "      <td>1</td>\n",
       "      <td>#ow</td>\n",
       "      <td>all</td>\n",
       "      <td>3.445611</td>\n",
       "      <td>0.450020</td>\n",
       "      <td>0.277744</td>\n",
       "      <td>-0.219388</td>\n",
       "      <td>35.922259</td>\n",
       "      <td>0.881646</td>\n",
       "      <td>0.642625</td>\n",
       "      <td>0.461000</td>\n",
       "      <td>0.648994</td>\n",
       "      <td>0.612005</td>\n",
       "      <td>0.117667</td>\n",
       "    </tr>\n",
       "    <tr>\n",
       "      <th>1</th>\n",
       "      <td>bi_1_128_1_#ow_first</td>\n",
       "      <td>True</td>\n",
       "      <td>1</td>\n",
       "      <td>128</td>\n",
       "      <td>1</td>\n",
       "      <td>#ow</td>\n",
       "      <td>first</td>\n",
       "      <td>1.419023</td>\n",
       "      <td>0.565245</td>\n",
       "      <td>0.480500</td>\n",
       "      <td>0.039389</td>\n",
       "      <td>20.651640</td>\n",
       "      <td>0.031283</td>\n",
       "      <td>0.897674</td>\n",
       "      <td>0.906593</td>\n",
       "      <td>0.887456</td>\n",
       "      <td>0.269603</td>\n",
       "      <td>0.194716</td>\n",
       "    </tr>\n",
       "    <tr>\n",
       "      <th>2</th>\n",
       "      <td>bi_1_128_1_#ow_last</td>\n",
       "      <td>True</td>\n",
       "      <td>1</td>\n",
       "      <td>128</td>\n",
       "      <td>1</td>\n",
       "      <td>#ow</td>\n",
       "      <td>last</td>\n",
       "      <td>1.453890</td>\n",
       "      <td>0.560622</td>\n",
       "      <td>0.474402</td>\n",
       "      <td>-0.036562</td>\n",
       "      <td>21.345548</td>\n",
       "      <td>0.045913</td>\n",
       "      <td>0.887442</td>\n",
       "      <td>0.893192</td>\n",
       "      <td>0.817467</td>\n",
       "      <td>0.285162</td>\n",
       "      <td>0.184776</td>\n",
       "    </tr>\n",
       "    <tr>\n",
       "      <th>3</th>\n",
       "      <td>bi_1_128_1_#ow_terminal</td>\n",
       "      <td>True</td>\n",
       "      <td>1</td>\n",
       "      <td>128</td>\n",
       "      <td>1</td>\n",
       "      <td>#ow</td>\n",
       "      <td>terminal</td>\n",
       "      <td>2.497622</td>\n",
       "      <td>0.432549</td>\n",
       "      <td>0.330198</td>\n",
       "      <td>-0.200632</td>\n",
       "      <td>29.263766</td>\n",
       "      <td>0.483867</td>\n",
       "      <td>0.603954</td>\n",
       "      <td>0.576278</td>\n",
       "      <td>0.666277</td>\n",
       "      <td>0.462706</td>\n",
       "      <td>0.107299</td>\n",
       "    </tr>\n",
       "    <tr>\n",
       "      <th>4</th>\n",
       "      <td>bi_1_128_1_bow_all</td>\n",
       "      <td>True</td>\n",
       "      <td>1</td>\n",
       "      <td>128</td>\n",
       "      <td>1</td>\n",
       "      <td>bow</td>\n",
       "      <td>all</td>\n",
       "      <td>3.215927</td>\n",
       "      <td>0.454667</td>\n",
       "      <td>0.282452</td>\n",
       "      <td>-0.236690</td>\n",
       "      <td>34.588675</td>\n",
       "      <td>0.785270</td>\n",
       "      <td>0.652911</td>\n",
       "      <td>0.471347</td>\n",
       "      <td>0.633050</td>\n",
       "      <td>0.582103</td>\n",
       "      <td>0.113405</td>\n",
       "    </tr>\n",
       "  </tbody>\n",
       "</table>\n",
       "</div>"
      ],
      "text/plain": [
       "                       key  is_bi  lstm_layers  lstm_hidden_dim  out_layers  \\\n",
       "0       bi_1_128_1_#ow_all   True            1              128           1   \n",
       "1     bi_1_128_1_#ow_first   True            1              128           1   \n",
       "2      bi_1_128_1_#ow_last   True            1              128           1   \n",
       "3  bi_1_128_1_#ow_terminal   True            1              128           1   \n",
       "4       bi_1_128_1_bow_all   True            1              128           1   \n",
       "\n",
       "  special_tokens  tag_mode      loss  accuracy        f1  explained_variance  \\\n",
       "0            #ow       all  3.445611  0.450020  0.277744           -0.219388   \n",
       "1            #ow     first  1.419023  0.565245  0.480500            0.039389   \n",
       "2            #ow      last  1.453890  0.560622  0.474402           -0.036562   \n",
       "3            #ow  terminal  2.497622  0.432549  0.330198           -0.200632   \n",
       "4            bow       all  3.215927  0.454667  0.282452           -0.236690   \n",
       "\n",
       "       alpha  loss_norm  accuracy_norm   f1_norm  explained_variance_norm  \\\n",
       "0  35.922259   0.881646       0.642625  0.461000                 0.648994   \n",
       "1  20.651640   0.031283       0.897674  0.906593                 0.887456   \n",
       "2  21.345548   0.045913       0.887442  0.893192                 0.817467   \n",
       "3  29.263766   0.483867       0.603954  0.576278                 0.666277   \n",
       "4  34.588675   0.785270       0.652911  0.471347                 0.633050   \n",
       "\n",
       "   alpha_norm  combined  \n",
       "0    0.612005  0.117667  \n",
       "1    0.269603  0.194716  \n",
       "2    0.285162  0.184776  \n",
       "3    0.462706  0.107299  \n",
       "4    0.582103  0.113405  "
      ]
     },
     "execution_count": 6,
     "metadata": {},
     "output_type": "execute_result"
    }
   ],
   "source": [
    "columns = ['loss','accuracy','f1','explained_variance','alpha']\n",
    "df[[c+\"_norm\" for c in columns]] = (df[columns]-df[columns].min())/(df[columns].max()-df[columns].min())\n",
    "df['combined'] = 1\n",
    "for c in columns:\n",
    "    if c=='loss':\n",
    "        pass#df['combined'] *= 1-df[c+'_norm']\n",
    "    else:\n",
    "        df['combined'] *= df[c+'_norm']\n",
    "df.head()"
   ]
  },
  {
   "cell_type": "code",
   "execution_count": 22,
   "metadata": {},
   "outputs": [
    {
     "data": {
      "text/plain": [
       "{'alpha': 216     mono_2_16_1_eow_all\n",
       " 96        bi_2_32_1_#ow_all\n",
       " 200    mono_2_128_1_eow_all\n",
       " Name: key, dtype: object,\n",
       " 'f1': 136    mono_1_128_1_eow_all\n",
       " 96        bi_2_32_1_#ow_all\n",
       " 168     mono_1_32_1_eow_all\n",
       " Name: key, dtype: object,\n",
       " 'accuracy': 188        mono_1_64_1__all\n",
       " 172        mono_1_32_1__all\n",
       " 136    mono_1_128_1_eow_all\n",
       " Name: key, dtype: object,\n",
       " 'explained': 236       mono_2_32_1__all\n",
       " 92          bi_2_16_1__all\n",
       " 184    mono_1_64_1_eow_all\n",
       " Name: key, dtype: object,\n",
       " 'combined': 136    mono_1_128_1_eow_all\n",
       " 96        bi_2_32_1_#ow_all\n",
       " 184     mono_1_64_1_eow_all\n",
       " Name: key, dtype: object}"
      ]
     },
     "execution_count": 22,
     "metadata": {},
     "output_type": "execute_result"
    }
   ],
   "source": [
    "top_3_by = {}\n",
    "df_ = df[df.tag_mode==\"all\"]\n",
    "top_3_by['alpha'] = df_.sort_values('alpha_norm',ascending=False).head(3).key\n",
    "top_3_by['f1'] = df_.sort_values('f1_norm',ascending=False).head(3).key\n",
    "top_3_by['accuracy'] = df_.sort_values('accuracy_norm',ascending=False).head(3).key\n",
    "top_3_by['explained'] = df_.sort_values('explained_variance_norm',ascending=False).head(3).key\n",
    "#top_3_by['loss'] = df.sort_values('loss_norm',ascending=True).head(3).key\n",
    "top_3_by['combined'] = df_.sort_values('combined',ascending=False).head(3).key\n",
    "top_3_by"
   ]
  },
  {
   "cell_type": "code",
   "execution_count": 23,
   "metadata": {},
   "outputs": [
    {
     "data": {
      "text/plain": [
       "({'bi_2_16_1__all',\n",
       "  'bi_2_32_1_#ow_all',\n",
       "  'mono_1_128_1_eow_all',\n",
       "  'mono_1_32_1__all',\n",
       "  'mono_1_32_1_eow_all',\n",
       "  'mono_1_64_1__all',\n",
       "  'mono_1_64_1_eow_all',\n",
       "  'mono_2_128_1_eow_all',\n",
       "  'mono_2_16_1_eow_all',\n",
       "  'mono_2_32_1__all'},\n",
       " 10,\n",
       " 15)"
      ]
     },
     "execution_count": 23,
     "metadata": {},
     "output_type": "execute_result"
    }
   ],
   "source": [
    "unique_top_3 = set()\n",
    "for v in top_3_by.values():\n",
    "    for k in v:\n",
    "        unique_top_3.add(k)\n",
    "unique_top_3, len(unique_top_3), len(top_3_by)*3"
   ]
  },
  {
   "cell_type": "code",
   "execution_count": 24,
   "metadata": {},
   "outputs": [
    {
     "data": {
      "text/plain": [
       "({('accuracy', 'mono_1_64_1__all'),\n",
       "  ('alpha', 'mono_2_16_1_eow_all'),\n",
       "  ('combined', 'mono_1_128_1_eow_all'),\n",
       "  ('explained', 'mono_2_32_1__all'),\n",
       "  ('f1', 'mono_1_128_1_eow_all')},\n",
       " 5,\n",
       " 5)"
      ]
     },
     "execution_count": 24,
     "metadata": {},
     "output_type": "execute_result"
    }
   ],
   "source": [
    "unique_top_1 = set()\n",
    "for k,v in top_3_by.items():\n",
    "    for el in v:\n",
    "        unique_top_1.add((k,el))\n",
    "        break\n",
    "unique_top_1, len(unique_top_1), len(top_3_by)"
   ]
  },
  {
   "cell_type": "code",
   "execution_count": 14,
   "metadata": {},
   "outputs": [],
   "source": [
    "bot_3_by = {}\n",
    "df_ = df#[df.tag_mode==\"all\"]\n",
    "bot_3_by['alpha'] = df_.sort_values('alpha_norm',ascending=True).head(3).key\n",
    "bot_3_by['f1'] = df_.sort_values('f1_norm',ascending=True).head(3).key\n",
    "bot_3_by['accuracy'] = df_.sort_values('accuracy_norm',ascending=True).head(3).key\n",
    "bot_3_by['explained'] = df_.sort_values('explained_variance_norm',ascending=True).head(3).key\n",
    "#top_3_by['loss'] = df.sort_values('loss_norm',ascending=True).head(3).key\n",
    "bot_3_by['combined'] = df_.sort_values('combined',ascending=True).head(3).key\n"
   ]
  },
  {
   "cell_type": "code",
   "execution_count": 10,
   "metadata": {},
   "outputs": [
    {
     "data": {
      "text/plain": [
       "({'bi_1_32_1__all',\n",
       "  'bi_2_128_1__all',\n",
       "  'mono_1_16_1__all',\n",
       "  'mono_1_16_1_bow_all',\n",
       "  'mono_2_128_1_bow_all',\n",
       "  'mono_2_16_1_#ow_all',\n",
       "  'mono_2_16_1__all',\n",
       "  'mono_2_16_1_bow_all',\n",
       "  'mono_2_32_1_bow_all'},\n",
       " 9,\n",
       " 15)"
      ]
     },
     "execution_count": 10,
     "metadata": {},
     "output_type": "execute_result"
    }
   ],
   "source": [
    "unique_bot_3 = set()\n",
    "for v in bot_3_by.values():\n",
    "    for k in v:\n",
    "        unique_bot_3.add(k)\n",
    "unique_bot_3, len(unique_bot_3), len(bot_3_by)*3"
   ]
  },
  {
   "cell_type": "markdown",
   "metadata": {},
   "source": [
    "## Verify the alpha metric\n",
    "\n",
    "Let's re-train each of these for 200 epoch, if it is a valid metric:\n",
    "\n",
    "- bots should not improve significatly after the 100th epoch\n",
    "- tops should keep improving "
   ]
  },
  {
   "cell_type": "code",
   "execution_count": 32,
   "metadata": {},
   "outputs": [],
   "source": [
    "\n",
    "\n",
    "def collate_fn(batch):\n",
    "    tokens, tags = zip(*batch)\n",
    "    return pad_sequence(tokens, batch_first=True), pad_sequence(tags, padding_value=-100, batch_first=True)\n",
    "\n",
    "\n",
    "bpe = BPEmb(lang='it', vs=N_TOKENS)\n",
    "\n",
    "\n",
    "def mk_dl(special, tag_mode, ds_names=['train', 'test']):\n",
    "    if special == '#ow':\n",
    "        def word_tokenizer(word): return [1, *bpe.encode_ids(word), 2]\n",
    "    elif special == 'eow':\n",
    "        def word_tokenizer(word): return [*bpe.encode_ids(word), 2]\n",
    "    if special == 'bow':\n",
    "        def word_tokenizer(word): return [1, *bpe.encode_ids(word)]\n",
    "    elif special == '':\n",
    "        def word_tokenizer(word): return bpe.encode_ids(word)\n",
    "\n",
    "    def transformer(tkns, tags): return (\n",
    "        torch.tensor(tkns), torch.tensor(tags).long())\n",
    "\n",
    "    ds_train = TWITADS(ds_names[0], word_tokenizer,\n",
    "                       transform=transformer, tag_mode=tag_mode)\n",
    "    ds_test = TWITADS(ds_names[1], word_tokenizer,\n",
    "                      transform=transformer, tag_mode=tag_mode)\n",
    "    return (\n",
    "        ds_train.n_tags,\n",
    "        DataLoader(ds_train, shuffle=True,\n",
    "                   batch_size=BATCH_SIZE, collate_fn=collate_fn),\n",
    "        DataLoader(ds_test, shuffle=True,\n",
    "                   batch_size=BATCH_SIZE, collate_fn=collate_fn)\n",
    "    )\n",
    "\n",
    "\n",
    "def mk_from_key(key, ds_names=['train', 'test']):\n",
    "    is_bi, l_layers, hid_dim, o_layers, special_tkns, tg_mode = key.split('_')\n",
    "\n",
    "    is_bi, l_layers, hid_dim, o_layers = is_bi == 'bi', int(\n",
    "        l_layers), int(hid_dim), int(o_layers)\n",
    "    n_tags, dl_tr, dl_te = mk_dl(special_tkns, tg_mode, ds_names)\n",
    "    m = LSTMTagger(\n",
    "        N_TOKENS,\n",
    "        n_tags,\n",
    "        hidden_dim=hid_dim,\n",
    "        dropout=0.1,\n",
    "        lstm_layers=l_layers,\n",
    "        bidirectional=is_bi,\n",
    "        output_layers=o_layers\n",
    "    )\n",
    "\n",
    "    return m, dl_tr, dl_te\n",
    "\n",
    "def do_train(key):\n",
    "    model, dl_tr, dl_val = mk_from_key(k,['resampled_train','resampled_validation'])\n",
    "    loss, acc = train_model(model,dl_tr,dl_val,cuda=True,lr=0.1,epochs=200,show_plots=False)\n",
    "    return model, loss, acc"
   ]
  },
  {
   "cell_type": "code",
   "execution_count": 33,
   "metadata": {},
   "outputs": [],
   "source": [
    "goods,bads = list(top_3_by['alpha']), list(bot_3_by['alpha'])"
   ]
  },
  {
   "cell_type": "code",
   "execution_count": 34,
   "metadata": {},
   "outputs": [
    {
     "name": "stdout",
     "output_type": "stream",
     "text": [
      "mono_1_32_1_#ow_first\n"
     ]
    },
    {
     "name": "stderr",
     "output_type": "stream",
     "text": [
      "100%|██████████| 200/200 [13:17<00:00,  3.99s/it]\n"
     ]
    },
    {
     "data": {
      "text/plain": [
       "[<matplotlib.lines.Line2D at 0x240baf33c10>]"
      ]
     },
     "execution_count": 34,
     "metadata": {},
     "output_type": "execute_result"
    },
    {
     "data": {
      "image/png": "[encoded data removed]",
      "text/plain": [
       "<Figure size 1152x432 with 2 Axes>"
      ]
     },
     "metadata": {
      "needs_background": "light"
     },
     "output_type": "display_data"
    }
   ],
   "source": [
    "k = bads[0]\n",
    "print(k)\n",
    "m, los, acc = do_train(k)\n",
    "plt.figure(figsize=(16,6))\n",
    "plt.suptitle(k)\n",
    "plt.subplot(121)\n",
    "plt.plot(los)\n",
    "plt.subplot(122)\n",
    "plt.plot(acc)"
   ]
  },
  {
   "cell_type": "code",
   "execution_count": 35,
   "metadata": {},
   "outputs": [
    {
     "name": "stdout",
     "output_type": "stream",
     "text": [
      "bi_2_128_1__last\n"
     ]
    },
    {
     "name": "stderr",
     "output_type": "stream",
     "text": [
      "100%|██████████| 200/200 [1:08:54<00:00, 20.67s/it] \n"
     ]
    },
    {
     "data": {
      "text/plain": [
       "[<matplotlib.lines.Line2D at 0x240bd2f4be0>]"
      ]
     },
     "execution_count": 35,
     "metadata": {},
     "output_type": "execute_result"
    },
    {
     "data": {
      "image/png": "[encoded data removed]",
      "text/plain": [
       "<Figure size 1152x432 with 2 Axes>"
      ]
     },
     "metadata": {
      "needs_background": "light"
     },
     "output_type": "display_data"
    }
   ],
   "source": [
    "k = goods[0]\n",
    "print(k)\n",
    "m, los, acc = do_train(k)\n",
    "plt.figure(figsize=(16,6))\n",
    "plt.suptitle(k)\n",
    "plt.subplot(121)\n",
    "plt.plot(los)\n",
    "plt.subplot(122)\n",
    "plt.plot(acc)"
   ]
  },
  {
   "cell_type": "markdown",
   "metadata": {},
   "source": [
    "it's clear that the improvement between the the 100th epoch and last exist in both cases, not significative for early convgence relevation"
   ]
  },
  {
   "cell_type": "markdown",
   "metadata": {},
   "source": [
    "## Notes\n",
    "\n",
    "- bi_2_128_1_#ow_terminal is taking a lot more than bi_2_128_1__terminal Why?\n",
    "\n",
    "    encode_ids_with_bos_eos -> take more time?\n",
    "\n",
    "    just prepend and post pend token \"manually\" BOS==1 EOS==2\n",
    "\n",
    "        -> it pass from ~30m to ~27m not very meaningful\n",
    "        \n",
    "        --> so probably the 'problem' is the longer sentece, nothing to do"
   ]
  },
  {
   "cell_type": "markdown",
   "metadata": {},
   "source": []
  }
 ],
 "metadata": {
  "interpreter": {
   "hash": "e5295be854e2238c5a1ba0043f0e370adc23fd798efee370abc19349dd1e6fcc"
  },
  "kernelspec": {
   "display_name": "Python 3.8.12 64-bit ('torch-gpu': conda)",
   "language": "python",
   "name": "python3"
  },
  "language_info": {
   "codemirror_mode": {
    "name": "ipython",
    "version": 3
   },
   "file_extension": ".py",
   "mimetype": "text/x-python",
   "name": "python",
   "nbconvert_exporter": "python",
   "pygments_lexer": "ipython3",
   "version": "3.8.12"
  },
  "orig_nbformat": 4
 },
 "nbformat": 4,
 "nbformat_minor": 2
}
