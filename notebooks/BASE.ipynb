{
 "cells": [
  {
   "cell_type": "code",
   "execution_count": null,
   "metadata": {},
   "outputs": [],
   "source": [
    "%%capture nop\n",
    "import os \n",
    "IS_KAGGLE = not not os.environ.get('KAGGLE_KERNEL_RUN_TYPE','')\n",
    "if IS_KAGGLE:\n",
    "    !git clone https://github.com/Janluke0/PoS-Tagging/\n",
    "    os.chdir('PoS-Tagging')\n",
    "    !pip install positional-encodings\n",
    "else:\n",
    "    os.chdir('..')"
   ]
  }
 ],
 "metadata": {
  "interpreter": {
   "hash": "e5295be854e2238c5a1ba0043f0e370adc23fd798efee370abc19349dd1e6fcc"
  },
  "kernelspec": {
   "display_name": "Python 3.8.12 ('torch-gpu')",
   "language": "python",
   "name": "python3"
  },
  "language_info": {
   "name": "python",
   "version": "3.7.7"
  },
  "orig_nbformat": 4
 },
 "nbformat": 4,
 "nbformat_minor": 2
}
